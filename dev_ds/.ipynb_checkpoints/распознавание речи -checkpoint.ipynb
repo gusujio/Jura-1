{
 "cells": [
  {
   "cell_type": "code",
   "execution_count": 4,
   "metadata": {},
   "outputs": [],
   "source": [
    "import os \n",
    "import speech_recognition as sr\n",
    "import  string"
   ]
  },
  {
   "cell_type": "code",
   "execution_count": 10,
   "metadata": {},
   "outputs": [],
   "source": [
    "# ! pip install PyAudio"
   ]
  },
  {
   "cell_type": "code",
   "execution_count": 11,
   "metadata": {},
   "outputs": [],
   "source": [
    "def Jura_listen(file = None):\n",
    "    r = sr.Recognizer()\n",
    "    #если мы хотим использовать файл, то вместо sr.Microphone() нужно sr.AudioFile(‘file.wav’)\n",
    "    if file == None:\n",
    "        first = sr.Microphone()\n",
    "    else:\n",
    "        first = sr.AudioFile(file)\n",
    "    with first as source:\n",
    "        print(\"Speak\")\n",
    "        audio = r.listen(source)\n",
    "        r.adjust_for_ambient_noise(source, duration = 1)\n",
    "        text = r.recognize_google(audio).lower()\n",
    "    return text "
   ]
  },
  {
   "cell_type": "code",
   "execution_count": 13,
   "metadata": {},
   "outputs": [
    {
     "name": "stdout",
     "output_type": "stream",
     "text": [
      "Speak\n"
     ]
    },
    {
     "data": {
      "text/plain": [
       "'hello'"
      ]
     },
     "execution_count": 13,
     "metadata": {},
     "output_type": "execute_result"
    }
   ],
   "source": [
    "Jura_listen()"
   ]
  },
  {
   "cell_type": "code",
   "execution_count": null,
   "metadata": {},
   "outputs": [],
   "source": []
  }
 ],
 "metadata": {
  "kernelspec": {
   "display_name": "Python 3",
   "language": "python",
   "name": "python3"
  },
  "language_info": {
   "codemirror_mode": {
    "name": "ipython",
    "version": 3
   },
   "file_extension": ".py",
   "mimetype": "text/x-python",
   "name": "python",
   "nbconvert_exporter": "python",
   "pygments_lexer": "ipython3",
   "version": "3.8.5"
  }
 },
 "nbformat": 4,
 "nbformat_minor": 4
}
