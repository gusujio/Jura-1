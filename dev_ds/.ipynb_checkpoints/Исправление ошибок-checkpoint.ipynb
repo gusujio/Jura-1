{
 "cells": [
  {
   "cell_type": "code",
   "execution_count": 21,
   "metadata": {},
   "outputs": [],
   "source": [
    "# ! pip install language-tool-python"
   ]
  },
  {
   "cell_type": "markdown",
   "metadata": {},
   "source": [
    "https://github.com/pender/chatbot-rnn.git - оригинал бота\n",
    "\n",
    "https://github.com/gusujio/Jura-1 - наш гит\n",
    "\n",
    "https://pypi.org/project/language-tool-python/ - ориг исправление ошибок\n",
    "\n",
    "He go likes to school. "
   ]
  },
  {
   "cell_type": "code",
   "execution_count": 12,
   "metadata": {},
   "outputs": [],
   "source": [
    "import language_tool_python as lt"
   ]
  },
  {
   "cell_type": "code",
   "execution_count": 27,
   "metadata": {},
   "outputs": [],
   "source": [
    "tool = lt.LanguageToolPublicAPI('en-US')\n",
    "text = 'He go likes to school.'\n",
    "matches = tool.check(text)"
   ]
  },
  {
   "cell_type": "code",
   "execution_count": 28,
   "metadata": {},
   "outputs": [
    {
     "data": {
      "text/plain": [
       "1"
      ]
     },
     "execution_count": 28,
     "metadata": {},
     "output_type": "execute_result"
    }
   ],
   "source": [
    "len(matches)"
   ]
  },
  {
   "cell_type": "code",
   "execution_count": 29,
   "metadata": {},
   "outputs": [
    {
     "data": {
      "text/plain": [
       "('HE_VERB_AGR', ['goes', 'went'])"
      ]
     },
     "execution_count": 29,
     "metadata": {},
     "output_type": "execute_result"
    }
   ],
   "source": [
    "matches[0].ruleId, matches[0].replacements"
   ]
  },
  {
   "cell_type": "code",
   "execution_count": 32,
   "metadata": {},
   "outputs": [],
   "source": [
    "t2 = tool.correct(text)"
   ]
  },
  {
   "cell_type": "code",
   "execution_count": 35,
   "metadata": {},
   "outputs": [
    {
     "data": {
      "text/plain": [
       "'He goes likes to school.'"
      ]
     },
     "execution_count": 35,
     "metadata": {},
     "output_type": "execute_result"
    }
   ],
   "source": [
    "tool.correct(t2)"
   ]
  },
  {
   "cell_type": "code",
   "execution_count": 36,
   "metadata": {},
   "outputs": [],
   "source": [
    "def Jura_correct1(text):\n",
    "    tool = lt.LanguageToolPublicAPI('en-US')\n",
    "    matches = tool.check(text)\n",
    "    number_mistakes = len(matches)\n",
    "    if number_mistakes == 0:\n",
    "        return None\n",
    "    else:\n",
    "        if number_mistakes == 1:\n",
    "            Jura_speak('You have one mistake')\n",
    "        else \n",
    "            Jura_speak('You have' + str(number_mistakes) +'mistakes')\n",
    "            \n",
    "    \n",
    "        \n",
    "\n",
    "        "
   ]
  },
  {
   "cell_type": "code",
   "execution_count": null,
   "metadata": {},
   "outputs": [],
   "source": [
    "def Jura_correct(text):\n",
    "    tool = lt.LanguageToolPublicAPI('en-US')\n",
    "    matches = tool.check(text)\n",
    "    number_mistakes = len(matches)\n",
    "    if number_mistakes == 0:\n",
    "        return None\n",
    "    else:\n",
    "        if number_mistakes == 1:\n",
    "            Jura_speak('You have one mistake')\n",
    "        else \n",
    "            Jura_speak('You have' + str(number_mistakes) +'mistakes')\n",
    "        \n",
    "        Jura_speak('I think you should have said')"
   ]
  }
 ],
 "metadata": {
  "kernelspec": {
   "display_name": "Python 3",
   "language": "python",
   "name": "python3"
  },
  "language_info": {
   "codemirror_mode": {
    "name": "ipython",
    "version": 3
   },
   "file_extension": ".py",
   "mimetype": "text/x-python",
   "name": "python",
   "nbconvert_exporter": "python",
   "pygments_lexer": "ipython3",
   "version": "3.8.5"
  }
 },
 "nbformat": 4,
 "nbformat_minor": 4
}
