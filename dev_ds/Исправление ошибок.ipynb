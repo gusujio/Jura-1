{
 "cells": [
  {
   "cell_type": "code",
   "execution_count": 21,
   "metadata": {},
   "outputs": [],
   "source": [
    "# ! pip install language-tool-python"
   ]
  },
  {
   "cell_type": "code",
   "execution_count": 11,
   "metadata": {},
   "outputs": [],
   "source": [
    "# ! pip install pyttsx3"
   ]
  },
  {
   "cell_type": "markdown",
   "metadata": {},
   "source": [
    "https://github.com/pender/chatbot-rnn.git - оригинал бота\n",
    "\n",
    "https://github.com/gusujio/Jura-1 - наш гит\n",
    "\n",
    "https://pypi.org/project/language-tool-python/ - ориг исправление ошибок\n",
    "\n",
    "He go likes to school. \n",
    "\n",
    "He go to school"
   ]
  },
  {
   "cell_type": "code",
   "execution_count": 1,
   "metadata": {},
   "outputs": [],
   "source": [
    "import language_tool_python as lt\n",
    "import pyttsx3"
   ]
  },
  {
   "cell_type": "code",
   "execution_count": 10,
   "metadata": {},
   "outputs": [
    {
     "name": "stdout",
     "output_type": "stream",
     "text": [
      "import _frozen_importlib # frozen\r\n",
      "import _imp # builtin\r\n",
      "import '_thread' # <class '_frozen_importlib.BuiltinImporter'>\r\n",
      "import '_warnings' # <class '_frozen_importlib.BuiltinImporter'>\r\n",
      "import '_weakref' # <class '_frozen_importlib.BuiltinImporter'>\r\n",
      "import '_frozen_importlib_external' # <class '_frozen_importlib.FrozenImporter'>\r\n",
      "import '_io' # <class '_frozen_importlib.BuiltinImporter'>\r\n",
      "import 'marshal' # <class '_frozen_importlib.BuiltinImporter'>\r\n",
      "import 'posix' # <class '_frozen_importlib.BuiltinImporter'>\r\n",
      "import _thread # previously loaded ('_thread')\r\n",
      "import '_thread' # <class '_frozen_importlib.BuiltinImporter'>\r\n",
      "import _weakref # previously loaded ('_weakref')\r\n",
      "import '_weakref' # <class '_frozen_importlib.BuiltinImporter'>\r\n",
      "# installing zipimport hook\r\n",
      "import 'time' # <class '_frozen_importlib.BuiltinImporter'>\r\n",
      "import 'zipimport' # <class '_frozen_importlib.FrozenImporter'>\r\n",
      "# installed zipimport hook\r\n",
      "# /Users/apple/opt/anaconda3/lib/python3.8/encodings/__pycache__/__init__.cpython-38.pyc matches /Users/apple/opt/anaconda3/lib/python3.8/encodings/__init__.py\r\n",
      "# code object from '/Users/apple/opt/anaconda3/lib/python3.8/encodings/__pycache__/__init__.cpython-38.pyc'\r\n",
      "# /Users/apple/opt/anaconda3/lib/python3.8/__pycache__/codecs.cpython-38.pyc matches /Users/apple/opt/anaconda3/lib/python3.8/codecs.py\r\n",
      "# code object from '/Users/apple/opt/anaconda3/lib/python3.8/__pycache__/codecs.cpython-38.pyc'\r\n",
      "import '_codecs' # <class '_frozen_importlib.BuiltinImporter'>\r\n",
      "import 'codecs' # <_frozen_importlib_external.SourceFileLoader object at 0x7fa16adcdf40>\r\n",
      "# /Users/apple/opt/anaconda3/lib/python3.8/encodings/__pycache__/aliases.cpython-38.pyc matches /Users/apple/opt/anaconda3/lib/python3.8/encodings/aliases.py\r\n",
      "# code object from '/Users/apple/opt/anaconda3/lib/python3.8/encodings/__pycache__/aliases.cpython-38.pyc'\r\n",
      "import 'encodings.aliases' # <_frozen_importlib_external.SourceFileLoader object at 0x7fa16c868610>\r\n",
      "import 'encodings' # <_frozen_importlib_external.SourceFileLoader object at 0x7fa16adcddf0>\r\n",
      "# /Users/apple/opt/anaconda3/lib/python3.8/encodings/__pycache__/utf_8.cpython-38.pyc matches /Users/apple/opt/anaconda3/lib/python3.8/encodings/utf_8.py\r\n",
      "# code object from '/Users/apple/opt/anaconda3/lib/python3.8/encodings/__pycache__/utf_8.cpython-38.pyc'\r\n",
      "import 'encodings.utf_8' # <_frozen_importlib_external.SourceFileLoader object at 0x7fa16adcde20>\r\n",
      "import '_signal' # <class '_frozen_importlib.BuiltinImporter'>\r\n",
      "# /Users/apple/opt/anaconda3/lib/python3.8/encodings/__pycache__/latin_1.cpython-38.pyc matches /Users/apple/opt/anaconda3/lib/python3.8/encodings/latin_1.py\r\n",
      "# code object from '/Users/apple/opt/anaconda3/lib/python3.8/encodings/__pycache__/latin_1.cpython-38.pyc'\r\n",
      "import 'encodings.latin_1' # <_frozen_importlib_external.SourceFileLoader object at 0x7fa16c868700>\r\n",
      "# /Users/apple/opt/anaconda3/lib/python3.8/__pycache__/io.cpython-38.pyc matches /Users/apple/opt/anaconda3/lib/python3.8/io.py\r\n",
      "# code object from '/Users/apple/opt/anaconda3/lib/python3.8/__pycache__/io.cpython-38.pyc'\r\n",
      "# /Users/apple/opt/anaconda3/lib/python3.8/__pycache__/abc.cpython-38.pyc matches /Users/apple/opt/anaconda3/lib/python3.8/abc.py\r\n",
      "# code object from '/Users/apple/opt/anaconda3/lib/python3.8/__pycache__/abc.cpython-38.pyc'\r\n",
      "import '_abc' # <class '_frozen_importlib.BuiltinImporter'>\r\n",
      "import 'abc' # <_frozen_importlib_external.SourceFileLoader object at 0x7fa16c868b80>\r\n",
      "import 'io' # <_frozen_importlib_external.SourceFileLoader object at 0x7fa16c8688b0>\r\n",
      "# /Users/apple/opt/anaconda3/lib/python3.8/__pycache__/site.cpython-38.pyc matches /Users/apple/opt/anaconda3/lib/python3.8/site.py\r\n",
      "# code object from '/Users/apple/opt/anaconda3/lib/python3.8/__pycache__/site.cpython-38.pyc'\r\n",
      "# /Users/apple/opt/anaconda3/lib/python3.8/__pycache__/os.cpython-38.pyc matches /Users/apple/opt/anaconda3/lib/python3.8/os.py\r\n",
      "# code object from '/Users/apple/opt/anaconda3/lib/python3.8/__pycache__/os.cpython-38.pyc'\r\n",
      "# /Users/apple/opt/anaconda3/lib/python3.8/__pycache__/stat.cpython-38.pyc matches /Users/apple/opt/anaconda3/lib/python3.8/stat.py\r\n",
      "# code object from '/Users/apple/opt/anaconda3/lib/python3.8/__pycache__/stat.cpython-38.pyc'\r\n",
      "import '_stat' # <class '_frozen_importlib.BuiltinImporter'>\r\n",
      "import 'stat' # <_frozen_importlib_external.SourceFileLoader object at 0x7fa16cd0a4f0>\r\n",
      "# /Users/apple/opt/anaconda3/lib/python3.8/__pycache__/_collections_abc.cpython-38.pyc matches /Users/apple/opt/anaconda3/lib/python3.8/_collections_abc.py\r\n",
      "# code object from '/Users/apple/opt/anaconda3/lib/python3.8/__pycache__/_collections_abc.cpython-38.pyc'\r\n",
      "import '_collections_abc' # <_frozen_importlib_external.SourceFileLoader object at 0x7fa16cd0a580>\r\n",
      "# /Users/apple/opt/anaconda3/lib/python3.8/__pycache__/posixpath.cpython-38.pyc matches /Users/apple/opt/anaconda3/lib/python3.8/posixpath.py\r\n",
      "# code object from '/Users/apple/opt/anaconda3/lib/python3.8/__pycache__/posixpath.cpython-38.pyc'\r\n",
      "# /Users/apple/opt/anaconda3/lib/python3.8/__pycache__/genericpath.cpython-38.pyc matches /Users/apple/opt/anaconda3/lib/python3.8/genericpath.py\r\n",
      "# code object from '/Users/apple/opt/anaconda3/lib/python3.8/__pycache__/genericpath.cpython-38.pyc'\r\n",
      "import 'genericpath' # <_frozen_importlib_external.SourceFileLoader object at 0x7fa16cd2ee80>\r\n",
      "import 'posixpath' # <_frozen_importlib_external.SourceFileLoader object at 0x7fa16cd0ae80>\r\n",
      "import 'os' # <_frozen_importlib_external.SourceFileLoader object at 0x7fa16c883c10>\r\n",
      "# /Users/apple/opt/anaconda3/lib/python3.8/__pycache__/_sitebuiltins.cpython-38.pyc matches /Users/apple/opt/anaconda3/lib/python3.8/_sitebuiltins.py\r\n",
      "# code object from '/Users/apple/opt/anaconda3/lib/python3.8/__pycache__/_sitebuiltins.cpython-38.pyc'\r\n",
      "import '_sitebuiltins' # <_frozen_importlib_external.SourceFileLoader object at 0x7fa16cd01e50>\r\n",
      "# /Users/apple/opt/anaconda3/lib/python3.8/__pycache__/_bootlocale.cpython-38.pyc matches /Users/apple/opt/anaconda3/lib/python3.8/_bootlocale.py\r\n",
      "# code object from '/Users/apple/opt/anaconda3/lib/python3.8/__pycache__/_bootlocale.cpython-38.pyc'\r\n",
      "import '_locale' # <class '_frozen_importlib.BuiltinImporter'>\r\n",
      "import '_bootlocale' # <_frozen_importlib_external.SourceFileLoader object at 0x7fa16cd0a160>\r\n",
      "# /Users/apple/opt/anaconda3/lib/python3.8/__pycache__/types.cpython-38.pyc matches /Users/apple/opt/anaconda3/lib/python3.8/types.py\r\n",
      "# code object from '/Users/apple/opt/anaconda3/lib/python3.8/__pycache__/types.cpython-38.pyc'\r\n",
      "import 'types' # <_frozen_importlib_external.SourceFileLoader object at 0x7fa16cd3d5b0>\r\n",
      "# /Users/apple/opt/anaconda3/lib/python3.8/importlib/__pycache__/__init__.cpython-38.pyc matches /Users/apple/opt/anaconda3/lib/python3.8/importlib/__init__.py\r\n",
      "# code object from '/Users/apple/opt/anaconda3/lib/python3.8/importlib/__pycache__/__init__.cpython-38.pyc'\r\n",
      "# /Users/apple/opt/anaconda3/lib/python3.8/__pycache__/warnings.cpython-38.pyc matches /Users/apple/opt/anaconda3/lib/python3.8/warnings.py\r\n",
      "# code object from '/Users/apple/opt/anaconda3/lib/python3.8/__pycache__/warnings.cpython-38.pyc'\r\n",
      "import 'warnings' # <_frozen_importlib_external.SourceFileLoader object at 0x7fa16cd85160>\r\n",
      "import 'importlib' # <_frozen_importlib_external.SourceFileLoader object at 0x7fa16cd3ddf0>\r\n",
      "# /Users/apple/opt/anaconda3/lib/python3.8/importlib/__pycache__/util.cpython-38.pyc matches /Users/apple/opt/anaconda3/lib/python3.8/importlib/util.py\r\n",
      "# code object from '/Users/apple/opt/anaconda3/lib/python3.8/importlib/__pycache__/util.cpython-38.pyc'\r\n",
      "# /Users/apple/opt/anaconda3/lib/python3.8/importlib/__pycache__/abc.cpython-38.pyc matches /Users/apple/opt/anaconda3/lib/python3.8/importlib/abc.py\r\n",
      "# code object from '/Users/apple/opt/anaconda3/lib/python3.8/importlib/__pycache__/abc.cpython-38.pyc'\r\n",
      "# /Users/apple/opt/anaconda3/lib/python3.8/importlib/__pycache__/machinery.cpython-38.pyc matches /Users/apple/opt/anaconda3/lib/python3.8/importlib/machinery.py\r\n",
      "# code object from '/Users/apple/opt/anaconda3/lib/python3.8/importlib/__pycache__/machinery.cpython-38.pyc'\r\n",
      "import 'importlib.machinery' # <_frozen_importlib_external.SourceFileLoader object at 0x7fa16cd949a0>\r\n",
      "import 'importlib.abc' # <_frozen_importlib_external.SourceFileLoader object at 0x7fa16cd85d30>\r\n",
      "# /Users/apple/opt/anaconda3/lib/python3.8/__pycache__/contextlib.cpython-38.pyc matches /Users/apple/opt/anaconda3/lib/python3.8/contextlib.py\r\n",
      "# code object from '/Users/apple/opt/anaconda3/lib/python3.8/__pycache__/contextlib.cpython-38.pyc'\r\n",
      "# /Users/apple/opt/anaconda3/lib/python3.8/collections/__pycache__/__init__.cpython-38.pyc matches /Users/apple/opt/anaconda3/lib/python3.8/collections/__init__.py\r\n",
      "# code object from '/Users/apple/opt/anaconda3/lib/python3.8/collections/__pycache__/__init__.cpython-38.pyc'\r\n",
      "# /Users/apple/opt/anaconda3/lib/python3.8/__pycache__/operator.cpython-38.pyc matches /Users/apple/opt/anaconda3/lib/python3.8/operator.py\r\n",
      "# code object from '/Users/apple/opt/anaconda3/lib/python3.8/__pycache__/operator.cpython-38.pyc'\r\n",
      "import '_operator' # <class '_frozen_importlib.BuiltinImporter'>\r\n",
      "import 'operator' # <_frozen_importlib_external.SourceFileLoader object at 0x7fa16cdbeeb0>\r\n",
      "# /Users/apple/opt/anaconda3/lib/python3.8/__pycache__/keyword.cpython-38.pyc matches /Users/apple/opt/anaconda3/lib/python3.8/keyword.py\r\n",
      "# code object from '/Users/apple/opt/anaconda3/lib/python3.8/__pycache__/keyword.cpython-38.pyc'\r\n",
      "import 'keyword' # <_frozen_importlib_external.SourceFileLoader object at 0x7fa16cdbedc0>\r\n",
      "# /Users/apple/opt/anaconda3/lib/python3.8/__pycache__/heapq.cpython-38.pyc matches /Users/apple/opt/anaconda3/lib/python3.8/heapq.py\r\n",
      "# code object from '/Users/apple/opt/anaconda3/lib/python3.8/__pycache__/heapq.cpython-38.pyc'\r\n",
      "# extension module '_heapq' loaded from '/Users/apple/opt/anaconda3/lib/python3.8/lib-dynload/_heapq.cpython-38-darwin.so'\r\n",
      "# extension module '_heapq' executed from '/Users/apple/opt/anaconda3/lib/python3.8/lib-dynload/_heapq.cpython-38-darwin.so'\r\n",
      "import '_heapq' # <_frozen_importlib_external.ExtensionFileLoader object at 0x7fa16cdc9910>\r\n",
      "import 'heapq' # <_frozen_importlib_external.SourceFileLoader object at 0x7fa16cdc9160>\r\n",
      "import 'itertools' # <class '_frozen_importlib.BuiltinImporter'>\r\n",
      "# /Users/apple/opt/anaconda3/lib/python3.8/__pycache__/reprlib.cpython-38.pyc matches /Users/apple/opt/anaconda3/lib/python3.8/reprlib.py\r\n",
      "# code object from '/Users/apple/opt/anaconda3/lib/python3.8/__pycache__/reprlib.cpython-38.pyc'\r\n",
      "import 'reprlib' # <_frozen_importlib_external.SourceFileLoader object at 0x7fa16cdc94f0>\r\n",
      "import '_collections' # <class '_frozen_importlib.BuiltinImporter'>\r\n",
      "import 'collections' # <_frozen_importlib_external.SourceFileLoader object at 0x7fa16cda80d0>\r\n",
      "# /Users/apple/opt/anaconda3/lib/python3.8/__pycache__/functools.cpython-38.pyc matches /Users/apple/opt/anaconda3/lib/python3.8/functools.py\r\n",
      "# code object from '/Users/apple/opt/anaconda3/lib/python3.8/__pycache__/functools.cpython-38.pyc'\r\n",
      "import '_functools' # <class '_frozen_importlib.BuiltinImporter'>\r\n",
      "import 'functools' # <_frozen_importlib_external.SourceFileLoader object at 0x7fa16cda8280>\r\n",
      "import 'contextlib' # <_frozen_importlib_external.SourceFileLoader object at 0x7fa16cd943a0>\r\n",
      "import 'importlib.util' # <_frozen_importlib_external.SourceFileLoader object at 0x7fa16cd3dfd0>\r\n",
      "# possible namespace for /Users/apple/opt/anaconda3/lib/python3.8/site-packages/google\r\n",
      "# possible namespace for /Users/apple/opt/anaconda3/lib/python3.8/site-packages/mpl_toolkits\r\n",
      "# possible namespace for /Users/apple/opt/anaconda3/lib/python3.8/site-packages/google\r\n",
      "# destroy google\r\n",
      "# possible namespace for /Users/apple/opt/anaconda3/lib/python3.8/site-packages/PyObjCTools\r\n",
      "# possible namespace for /Users/apple/opt/anaconda3/lib/python3.8/site-packages/PyObjCTools\r\n",
      "# destroy PyObjCTools\r\n",
      "# possible namespace for /Users/apple/opt/anaconda3/lib/python3.8/site-packages/PyObjCTools\r\n",
      "# destroy PyObjCTools\r\n",
      "# destroy sphinxcontrib\r\n",
      "# destroy sphinxcontrib\r\n",
      "# destroy sphinxcontrib\r\n",
      "# destroy sphinxcontrib\r\n",
      "# destroy sphinxcontrib\r\n",
      "# destroy sphinxcontrib\r\n",
      "# destroy zope\r\n",
      "import 'site' # <_frozen_importlib_external.SourceFileLoader object at 0x7fa16c883520>\r\n",
      "Python 3.8.5 (default, Sep  4 2020, 02:22:02) \r\n",
      "[Clang 10.0.0 ] :: Anaconda, Inc. on darwin\r\n",
      "Type \"help\", \"copyright\", \"credits\" or \"license\" for more information.\r\n"
     ]
    },
    {
     "name": "stdout",
     "output_type": "stream",
     "text": [
      "# extension module 'readline' loaded from '/Users/apple/opt/anaconda3/lib/python3.8/lib-dynload/readline.cpython-38-darwin.so'\n",
      "# extension module 'readline' executed from '/Users/apple/opt/anaconda3/lib/python3.8/lib-dynload/readline.cpython-38-darwin.so'\n",
      "import 'readline' # <_frozen_importlib_external.ExtensionFileLoader object at 0x7fa16cda8340>\n",
      "import 'atexit' # <class '_frozen_importlib.BuiltinImporter'>\n",
      "# /Users/apple/opt/anaconda3/lib/python3.8/__pycache__/rlcompleter.cpython-38.pyc matches /Users/apple/opt/anaconda3/lib/python3.8/rlcompleter.py\n",
      "# code object from '/Users/apple/opt/anaconda3/lib/python3.8/__pycache__/rlcompleter.cpython-38.pyc'\n",
      "import 'rlcompleter' # <_frozen_importlib_external.SourceFileLoader object at 0x7fa16cda8640>\n",
      ">>> \n",
      "KeyboardInterrupt\n",
      ">>> \n",
      ">>> "
     ]
    }
   ],
   "source": [
    "!python -v"
   ]
  },
  {
   "cell_type": "code",
   "execution_count": 2,
   "metadata": {},
   "outputs": [],
   "source": [
    "def Jura_speak(text):\n",
    "    engine = pyttsx3.init()\n",
    "    voices = engine.getProperty('voices')\n",
    "    engine.setProperty('voice', voices[0].id)#0 7 11 25\n",
    "    engine.say(text)\n",
    "    engine.runAndWait()"
   ]
  },
  {
   "cell_type": "code",
   "execution_count": 5,
   "metadata": {},
   "outputs": [],
   "source": [
    "def Jura_correct(text):\n",
    "    tool = lt.LanguageToolPublicAPI('en-US')\n",
    "    matches = tool.check(text)\n",
    "    number_mistakes = len(matches)\n",
    "    if number_mistakes == 0:\n",
    "        print('ok')\n",
    "        return None\n",
    "    else:\n",
    "        print('Shall i fix you?', '\\n', 'y\\\\n?')\n",
    "        user_answer = input()\n",
    "        if user_answer == 'y' or user_answer == 'Y' or user_answer == 'yes' or user_answer == 'Yes' or user_answer == 'YES':\n",
    "            if number_mistakes == 1:\n",
    "                Jura_speak('You have one mistake')\n",
    "            else:\n",
    "                Jura_speak('You have' + str(number_mistakes) +'mistakes')\n",
    "            \n",
    "            Jura_speak('I think you should have said')    \n",
    "            \n",
    "            t2 = tool.correct(text)\n",
    "            Jura_speak(tool.correct(t2))\n",
    "            print(2)\n",
    "\n",
    "        "
   ]
  },
  {
   "cell_type": "code",
   "execution_count": 6,
   "metadata": {},
   "outputs": [
    {
     "name": "stdout",
     "output_type": "stream",
     "text": [
      "Shall i fix you? \n",
      " y\\n?\n",
      "y\n",
      "2\n"
     ]
    }
   ],
   "source": [
    "Jura_correct('He go to school. She go to school.')"
   ]
  },
  {
   "cell_type": "code",
   "execution_count": 70,
   "metadata": {},
   "outputs": [
    {
     "data": {
      "text/plain": [
       "'He goes to school'"
      ]
     },
     "execution_count": 70,
     "metadata": {},
     "output_type": "execute_result"
    }
   ],
   "source": [
    "tool.correct(t2)"
   ]
  },
  {
   "cell_type": "code",
   "execution_count": null,
   "metadata": {},
   "outputs": [],
   "source": []
  }
 ],
 "metadata": {
  "kernelspec": {
   "display_name": "Python 3",
   "language": "python",
   "name": "python3"
  },
  "language_info": {
   "codemirror_mode": {
    "name": "ipython",
    "version": 3
   },
   "file_extension": ".py",
   "mimetype": "text/x-python",
   "name": "python",
   "nbconvert_exporter": "python",
   "pygments_lexer": "ipython3",
   "version": "3.8.5"
  }
 },
 "nbformat": 4,
 "nbformat_minor": 4
}
