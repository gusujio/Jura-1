{
 "cells": [
  {
   "cell_type": "code",
   "execution_count": 21,
   "metadata": {},
   "outputs": [],
   "source": [
    "# ! pip install language-tool-python"
   ]
  },
  {
   "cell_type": "code",
   "execution_count": 11,
   "metadata": {},
   "outputs": [],
   "source": [
    "# ! pip install pyttsx3"
   ]
  },
  {
   "cell_type": "markdown",
   "metadata": {},
   "source": [
    "https://github.com/pender/chatbot-rnn.git - оригинал бота\n",
    "\n",
    "https://github.com/gusujio/Jura-1 - наш гит\n",
    "\n",
    "https://pypi.org/project/language-tool-python/ - ориг исправление ошибок\n",
    "\n",
    "He go likes to school. \n",
    "\n",
    "He go to school"
   ]
  },
  {
   "cell_type": "code",
   "execution_count": 3,
   "metadata": {},
   "outputs": [],
   "source": [
    "import language_tool_python as lt\n",
    "import pyttsx3"
   ]
  },
  {
   "cell_type": "code",
   "execution_count": 4,
   "metadata": {},
   "outputs": [],
   "source": [
    "# !python -v"
   ]
  },
  {
   "cell_type": "code",
   "execution_count": 2,
   "metadata": {},
   "outputs": [],
   "source": [
    "# def Jura_speak(text):\n",
    "#     engine = pyttsx3.init()\n",
    "#     voices = engine.getProperty('voices')\n",
    "#     engine.setProperty('voice', voices[0].id)#0 7 11 25\n",
    "#     engine.say(text)\n",
    "#     engine.runAndWait()"
   ]
  },
  {
   "cell_type": "code",
   "execution_count": 11,
   "metadata": {},
   "outputs": [],
   "source": [
    "def Jura_correct(text):\n",
    "    tool = lt.LanguageToolPublicAPI('en-US')\n",
    "    matches = tool.check(text)\n",
    "    number_mistakes = len(matches)\n",
    "    if number_mistakes == 0:\n",
    "        return None\n",
    "    else:\n",
    "        if number_mistakes == 1:\n",
    "            s = 'You have one mistake \\n'\n",
    "        else:\n",
    "            s = 'You have ' + str(number_mistakes) +' mistakes \\n'\n",
    "        \n",
    "        s += 'I think you should have said')    \n",
    "        \n",
    "        t2 = tool.correct(text)\n",
    "        print(tool.correct(t2))\n",
    "\n",
    "        "
   ]
  },
  {
   "cell_type": "code",
   "execution_count": 12,
   "metadata": {},
   "outputs": [
    {
     "name": "stdout",
     "output_type": "stream",
     "text": [
      "You have 2 mistakes\n",
      "I think you should have said\n",
      "He goes to school. She goes to school.\n",
      "2\n"
     ]
    }
   ],
   "source": [
    "Jura_correct('He go to school. She go to school.')"
   ]
  },
  {
   "cell_type": "code",
   "execution_count": 70,
   "metadata": {},
   "outputs": [
    {
     "data": {
      "text/plain": [
       "'He goes to school'"
      ]
     },
     "execution_count": 70,
     "metadata": {},
     "output_type": "execute_result"
    }
   ],
   "source": [
    "tool.correct(t2)"
   ]
  },
  {
   "cell_type": "code",
   "execution_count": null,
   "metadata": {},
   "outputs": [],
   "source": []
  }
 ],
 "metadata": {
  "kernelspec": {
   "display_name": "Python 3",
   "language": "python",
   "name": "python3"
  },
  "language_info": {
   "codemirror_mode": {
    "name": "ipython",
    "version": 3
   },
   "file_extension": ".py",
   "mimetype": "text/x-python",
   "name": "python",
   "nbconvert_exporter": "python",
   "pygments_lexer": "ipython3",
   "version": "3.8.5"
  },
  "pycharm": {
   "stem_cell": {
    "cell_type": "raw",
    "source": [],
    "metadata": {
     "collapsed": false
    }
   }
  }
 },
 "nbformat": 4,
 "nbformat_minor": 4
}