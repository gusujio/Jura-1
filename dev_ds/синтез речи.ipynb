{
 "cells": [
  {
   "cell_type": "code",
   "execution_count": 1,
   "metadata": {},
   "outputs": [],
   "source": [
    "# ! pip install pyttsx3"
   ]
  },
  {
   "cell_type": "code",
   "execution_count": 1,
   "metadata": {},
   "outputs": [],
   "source": [
    "import pyttsx3\n",
    "from pydub import AudioSegment"
   ]
  },
  {
   "cell_type": "code",
   "execution_count": null,
   "metadata": {},
   "outputs": [],
   "source": []
  },
  {
   "cell_type": "code",
   "execution_count": 2,
   "metadata": {},
   "outputs": [],
   "source": [
    "# tts = pyttsx3.init()\n",
    "# EN_VOICE_ID = \"HKEY_LOCAL_MACHINE\\SOFTWARE\\Microsoft\\Speech\\Voices\\Tokens\\MS-Anna-1033-20DSK\"\n",
    "# tts.setProperty('voice', EN_VOICE_ID)\n",
    "# tts.say(\"Can you hear me say it's a lovely day?\")\n",
    "# tts.runAndWait()"
   ]
  },
  {
   "cell_type": "code",
   "execution_count": 4,
   "metadata": {},
   "outputs": [],
   "source": [
    "def Jura_speak(text, name_file = None):\n",
    "    engine = pyttsx3.init()\n",
    "    voices = engine.getProperty('voices')\n",
    "    engine.setProperty('voice', voices[0].id)#0 7 11\n",
    "    if name_file == None:\n",
    "        engine.say(text)\n",
    "    else:\n",
    "        engine.save_to_file(text, name_file)\n",
    "\n",
    "    engine.runAndWait()\n",
    "\n",
    "\n",
    "\n",
    "    \n",
    "name_file = 'speak'\n",
    "Jura_speak(\"Can you hear me? say it's a lovely day?\", name_file)\n",
    "# AudioSegment.from_file(name_file).export(name_file + '.ogg', format=\"ogg\")"
   ]
  },
  {
   "cell_type": "code",
   "execution_count": 5,
   "metadata": {},
   "outputs": [],
   "source": [
    "engine = pyttsx3.init()\n",
    "voices = engine.getProperty('voices')\n",
    "engine.setProperty('voice', voices[25].id)#0 7 11\n",
    "engine.say(\"Can you hear me? say it's a lovely day?\")\n",
    "engine.runAndWait()"
   ]
  },
  {
   "cell_type": "code",
   "execution_count": 2,
   "metadata": {},
   "outputs": [
    {
     "name": "stdout",
     "output_type": "stream",
     "text": [
      "0\n",
      "7\n",
      "11\n",
      "25\n",
      "32\n"
     ]
    }
   ],
   "source": [
    "for i in [0, 7, 11, 25,32]:\n",
    "    engine = pyttsx3.init()\n",
    "    voices = engine.getProperty('voices')\n",
    "    engine.setProperty('voice', voices[i].id)#0 7 11 25 32 \n",
    "    engine.say(\"Can you hear me? say it's a lovely day?\")\n",
    "    engine.runAndWait()\n",
    "    print(i)"
   ]
  },
  {
   "cell_type": "code",
   "execution_count": null,
   "metadata": {},
   "outputs": [],
   "source": []
  },
  {
   "cell_type": "code",
   "execution_count": null,
   "metadata": {},
   "outputs": [],
   "source": []
  }
 ],
 "metadata": {
  "kernelspec": {
   "display_name": "Python 3",
   "language": "python",
   "name": "python3"
  },
  "language_info": {
   "codemirror_mode": {
    "name": "ipython",
    "version": 3
   },
   "file_extension": ".py",
   "mimetype": "text/x-python",
   "name": "python",
   "nbconvert_exporter": "python",
   "pygments_lexer": "ipython3",
   "version": "3.8.5"
  }
 },
 "nbformat": 4,
 "nbformat_minor": 4
}
